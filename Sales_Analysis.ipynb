{
 "cells": [
  {
   "cell_type": "markdown",
   "id": "79dc098f",
   "metadata": {},
   "source": [
    "# SALES ANALYSIS "
   ]
  },
  {
   "cell_type": "markdown",
   "id": "16cc3ee6",
   "metadata": {},
   "source": []
  },
  {
   "cell_type": "markdown",
   "id": "a8690e7d",
   "metadata": {},
   "source": []
  },
  {
   "cell_type": "markdown",
   "id": "ad8d5b6b",
   "metadata": {},
   "source": [
    "# MERGING FILES"
   ]
  },
  {
   "cell_type": "markdown",
   "id": "4ad08ab0",
   "metadata": {},
   "source": [
    "STEP 1: IMPORT PANDAS"
   ]
  },
  {
   "cell_type": "code",
   "execution_count": 8,
   "id": "0f472766",
   "metadata": {},
   "outputs": [],
   "source": [
    "import pandas as pd\n",
    "import glob\n",
    "import os\n",
    "import numpy as np\n",
    "import matplotlib.pyplot as plt\n"
   ]
  },
  {
   "cell_type": "markdown",
   "id": "23a35b76",
   "metadata": {},
   "source": [
    "step2: list all files in the directory"
   ]
  },
  {
   "cell_type": "code",
   "execution_count": 9,
   "id": "81c9cae1",
   "metadata": {},
   "outputs": [
    {
     "name": "stdout",
     "output_type": "stream",
     "text": [
      "['combined.csv', 'Sales_April_2019.csv', 'Sales_August_2019.csv', 'Sales_December_2019.csv', 'Sales_February_2019.csv', 'Sales_January_2019.csv', 'Sales_July_2019.csv', 'Sales_June_2019.csv', 'Sales_March_2019.csv', 'Sales_May_2019.csv', 'Sales_November_2019.csv', 'Sales_October_2019.csv', 'Sales_September_2019.csv']\n"
     ]
    }
   ],
   "source": [
    "csv_files = glob.glob('**/*.csv', recursive=True)\n",
    "print(csv_files)"
   ]
  },
  {
   "cell_type": "markdown",
   "id": "5972d5df",
   "metadata": {},
   "source": [
    "step 3: Create an empty DataFrame to store the combined data"
   ]
  },
  {
   "cell_type": "code",
   "execution_count": 10,
   "id": "446fba1b",
   "metadata": {},
   "outputs": [],
   "source": [
    "combined_df = pd.DataFrame()"
   ]
  },
  {
   "cell_type": "markdown",
   "id": "96794906",
   "metadata": {},
   "source": [
    "Loop through each CSV file and append its data to the combined DataFrame"
   ]
  },
  {
   "cell_type": "code",
   "execution_count": 11,
   "id": "42cd09e8",
   "metadata": {},
   "outputs": [],
   "source": [
    "for file in csv_files:\n",
    "    df = pd.read_csv(file)\n",
    "    combined_df = pd.concat([combined_df, df], ignore_index=True).drop_duplicates()\n"
   ]
  },
  {
   "cell_type": "markdown",
   "id": "377e1ff8",
   "metadata": {},
   "source": [
    "Write the combined data to a new CSV file"
   ]
  },
  {
   "cell_type": "code",
   "execution_count": 12,
   "id": "f27fef8a",
   "metadata": {},
   "outputs": [],
   "source": [
    "combined_df.to_csv('combined.csv', index=False)"
   ]
  },
  {
   "cell_type": "code",
   "execution_count": null,
   "id": "aed7e6d7",
   "metadata": {},
   "outputs": [],
   "source": []
  },
  {
   "cell_type": "code",
   "execution_count": 13,
   "id": "f0268782",
   "metadata": {},
   "outputs": [
    {
     "name": "stderr",
     "output_type": "stream",
     "text": [
      "C:\\Users\\Beloxxi\\anaconda3\\lib\\site-packages\\IPython\\core\\interactiveshell.py:3444: DtypeWarning: Columns (0,2,3) have mixed types.Specify dtype option on import or set low_memory=False.\n",
      "  exec(code_obj, self.user_global_ns, self.user_ns)\n"
     ]
    }
   ],
   "source": [
    "combined = pd.read_csv('combined.csv')\n"
   ]
  },
  {
   "cell_type": "code",
   "execution_count": null,
   "id": "bc77d16d",
   "metadata": {},
   "outputs": [],
   "source": []
  },
  {
   "cell_type": "markdown",
   "id": "e6bba3ad",
   "metadata": {},
   "source": [
    "print combined "
   ]
  },
  {
   "cell_type": "code",
   "execution_count": 14,
   "id": "7c5dce13",
   "metadata": {},
   "outputs": [
    {
     "name": "stdout",
     "output_type": "stream",
     "text": [
      "  Order ID                Product Quantity Ordered Price Each      Order Date  \\\n",
      "0   248151  AA Batteries (4-pack)              4.0       3.84  09/17/19 14:44   \n",
      "1   248152   USB-C Charging Cable              2.0      11.95  09/29/19 10:19   \n",
      "2   248153   USB-C Charging Cable              1.0      11.95  09/16/19 17:48   \n",
      "3   248154       27in FHD Monitor              1.0     149.99  09/27/19 07:52   \n",
      "4   248155   USB-C Charging Cable              1.0      11.95  09/01/19 19:03   \n",
      "\n",
      "                        Purchase Address  month  \n",
      "0    380 North St, Los Angeles, CA 90001    9.0  \n",
      "1           511 8th St, Austin, TX 73301    9.0  \n",
      "2  151 Johnson St, Los Angeles, CA 90001    9.0  \n",
      "3      355 Hickory St, Seattle, WA 98101    9.0  \n",
      "4          125 5th St, Atlanta, GA 30301    9.0  \n"
     ]
    }
   ],
   "source": [
    "print(combined.head())\n"
   ]
  },
  {
   "cell_type": "markdown",
   "id": "0e5a9021",
   "metadata": {},
   "source": [
    "# CLEANING DATA"
   ]
  },
  {
   "cell_type": "markdown",
   "id": "b19cc462",
   "metadata": {},
   "source": [
    "DROP NAN"
   ]
  },
  {
   "cell_type": "code",
   "execution_count": 15,
   "id": "344c317a",
   "metadata": {},
   "outputs": [
    {
     "data": {
      "text/html": [
       "<div>\n",
       "<style scoped>\n",
       "    .dataframe tbody tr th:only-of-type {\n",
       "        vertical-align: middle;\n",
       "    }\n",
       "\n",
       "    .dataframe tbody tr th {\n",
       "        vertical-align: top;\n",
       "    }\n",
       "\n",
       "    .dataframe thead th {\n",
       "        text-align: right;\n",
       "    }\n",
       "</style>\n",
       "<table border=\"1\" class=\"dataframe\">\n",
       "  <thead>\n",
       "    <tr style=\"text-align: right;\">\n",
       "      <th></th>\n",
       "      <th>Order ID</th>\n",
       "      <th>Product</th>\n",
       "      <th>Quantity Ordered</th>\n",
       "      <th>Price Each</th>\n",
       "      <th>Order Date</th>\n",
       "      <th>Purchase Address</th>\n",
       "      <th>month</th>\n",
       "    </tr>\n",
       "  </thead>\n",
       "  <tbody>\n",
       "    <tr>\n",
       "      <th>185686</th>\n",
       "      <td>176558</td>\n",
       "      <td>USB-C Charging Cable</td>\n",
       "      <td>2</td>\n",
       "      <td>11.95</td>\n",
       "      <td>04/19/19 08:46</td>\n",
       "      <td>917 1st St, Dallas, TX 75001</td>\n",
       "      <td>NaN</td>\n",
       "    </tr>\n",
       "    <tr>\n",
       "      <th>185687</th>\n",
       "      <td>NaN</td>\n",
       "      <td>NaN</td>\n",
       "      <td>NaN</td>\n",
       "      <td>NaN</td>\n",
       "      <td>NaN</td>\n",
       "      <td>NaN</td>\n",
       "      <td>NaN</td>\n",
       "    </tr>\n",
       "    <tr>\n",
       "      <th>185688</th>\n",
       "      <td>176559</td>\n",
       "      <td>Bose SoundSport Headphones</td>\n",
       "      <td>1</td>\n",
       "      <td>99.99</td>\n",
       "      <td>04/07/19 22:30</td>\n",
       "      <td>682 Chestnut St, Boston, MA 02215</td>\n",
       "      <td>NaN</td>\n",
       "    </tr>\n",
       "    <tr>\n",
       "      <th>185689</th>\n",
       "      <td>176560</td>\n",
       "      <td>Google Phone</td>\n",
       "      <td>1</td>\n",
       "      <td>600</td>\n",
       "      <td>04/12/19 14:38</td>\n",
       "      <td>669 Spruce St, Los Angeles, CA 90001</td>\n",
       "      <td>NaN</td>\n",
       "    </tr>\n",
       "    <tr>\n",
       "      <th>185690</th>\n",
       "      <td>176560</td>\n",
       "      <td>Wired Headphones</td>\n",
       "      <td>1</td>\n",
       "      <td>11.99</td>\n",
       "      <td>04/12/19 14:38</td>\n",
       "      <td>669 Spruce St, Los Angeles, CA 90001</td>\n",
       "      <td>NaN</td>\n",
       "    </tr>\n",
       "  </tbody>\n",
       "</table>\n",
       "</div>"
      ],
      "text/plain": [
       "       Order ID                     Product Quantity Ordered Price Each  \\\n",
       "185686   176558        USB-C Charging Cable                2      11.95   \n",
       "185687      NaN                         NaN              NaN        NaN   \n",
       "185688   176559  Bose SoundSport Headphones                1      99.99   \n",
       "185689   176560                Google Phone                1        600   \n",
       "185690   176560            Wired Headphones                1      11.99   \n",
       "\n",
       "            Order Date                      Purchase Address  month  \n",
       "185686  04/19/19 08:46          917 1st St, Dallas, TX 75001    NaN  \n",
       "185687             NaN                                   NaN    NaN  \n",
       "185688  04/07/19 22:30     682 Chestnut St, Boston, MA 02215    NaN  \n",
       "185689  04/12/19 14:38  669 Spruce St, Los Angeles, CA 90001    NaN  \n",
       "185690  04/12/19 14:38  669 Spruce St, Los Angeles, CA 90001    NaN  "
      ]
     },
     "metadata": {},
     "output_type": "display_data"
    },
    {
     "data": {
      "text/html": [
       "<div>\n",
       "<style scoped>\n",
       "    .dataframe tbody tr th:only-of-type {\n",
       "        vertical-align: middle;\n",
       "    }\n",
       "\n",
       "    .dataframe tbody tr th {\n",
       "        vertical-align: top;\n",
       "    }\n",
       "\n",
       "    .dataframe thead th {\n",
       "        text-align: right;\n",
       "    }\n",
       "</style>\n",
       "<table border=\"1\" class=\"dataframe\">\n",
       "  <thead>\n",
       "    <tr style=\"text-align: right;\">\n",
       "      <th></th>\n",
       "      <th>Order ID</th>\n",
       "      <th>Product</th>\n",
       "      <th>Quantity Ordered</th>\n",
       "      <th>Price Each</th>\n",
       "      <th>Order Date</th>\n",
       "      <th>Purchase Address</th>\n",
       "      <th>month</th>\n",
       "    </tr>\n",
       "  </thead>\n",
       "  <tbody>\n",
       "    <tr>\n",
       "      <th>0</th>\n",
       "      <td>248151</td>\n",
       "      <td>AA Batteries (4-pack)</td>\n",
       "      <td>4.0</td>\n",
       "      <td>3.84</td>\n",
       "      <td>09/17/19 14:44</td>\n",
       "      <td>380 North St, Los Angeles, CA 90001</td>\n",
       "      <td>9.0</td>\n",
       "    </tr>\n",
       "    <tr>\n",
       "      <th>1</th>\n",
       "      <td>248152</td>\n",
       "      <td>USB-C Charging Cable</td>\n",
       "      <td>2.0</td>\n",
       "      <td>11.95</td>\n",
       "      <td>09/29/19 10:19</td>\n",
       "      <td>511 8th St, Austin, TX 73301</td>\n",
       "      <td>9.0</td>\n",
       "    </tr>\n",
       "    <tr>\n",
       "      <th>2</th>\n",
       "      <td>248153</td>\n",
       "      <td>USB-C Charging Cable</td>\n",
       "      <td>1.0</td>\n",
       "      <td>11.95</td>\n",
       "      <td>09/16/19 17:48</td>\n",
       "      <td>151 Johnson St, Los Angeles, CA 90001</td>\n",
       "      <td>9.0</td>\n",
       "    </tr>\n",
       "    <tr>\n",
       "      <th>3</th>\n",
       "      <td>248154</td>\n",
       "      <td>27in FHD Monitor</td>\n",
       "      <td>1.0</td>\n",
       "      <td>149.99</td>\n",
       "      <td>09/27/19 07:52</td>\n",
       "      <td>355 Hickory St, Seattle, WA 98101</td>\n",
       "      <td>9.0</td>\n",
       "    </tr>\n",
       "    <tr>\n",
       "      <th>4</th>\n",
       "      <td>248155</td>\n",
       "      <td>USB-C Charging Cable</td>\n",
       "      <td>1.0</td>\n",
       "      <td>11.95</td>\n",
       "      <td>09/01/19 19:03</td>\n",
       "      <td>125 5th St, Atlanta, GA 30301</td>\n",
       "      <td>9.0</td>\n",
       "    </tr>\n",
       "  </tbody>\n",
       "</table>\n",
       "</div>"
      ],
      "text/plain": [
       "  Order ID                Product Quantity Ordered Price Each      Order Date  \\\n",
       "0   248151  AA Batteries (4-pack)              4.0       3.84  09/17/19 14:44   \n",
       "1   248152   USB-C Charging Cable              2.0      11.95  09/29/19 10:19   \n",
       "2   248153   USB-C Charging Cable              1.0      11.95  09/16/19 17:48   \n",
       "3   248154       27in FHD Monitor              1.0     149.99  09/27/19 07:52   \n",
       "4   248155   USB-C Charging Cable              1.0      11.95  09/01/19 19:03   \n",
       "\n",
       "                        Purchase Address  month  \n",
       "0    380 North St, Los Angeles, CA 90001    9.0  \n",
       "1           511 8th St, Austin, TX 73301    9.0  \n",
       "2  151 Johnson St, Los Angeles, CA 90001    9.0  \n",
       "3      355 Hickory St, Seattle, WA 98101    9.0  \n",
       "4          125 5th St, Atlanta, GA 30301    9.0  "
      ]
     },
     "execution_count": 15,
     "metadata": {},
     "output_type": "execute_result"
    }
   ],
   "source": [
    "nan_df = combined[combined.isna().any(axis=1)]\n",
    "display(nan_df.head())\n",
    "combined = combined.dropna(how='all')\n",
    "combined.head()\n"
   ]
  },
  {
   "cell_type": "code",
   "execution_count": 16,
   "id": "a3829db0",
   "metadata": {},
   "outputs": [
    {
     "name": "stderr",
     "output_type": "stream",
     "text": [
      "C:\\Users\\Beloxxi\\anaconda3\\lib\\site-packages\\IPython\\core\\interactiveshell.py:3444: DtypeWarning: Columns (0,2,3) have mixed types.Specify dtype option on import or set low_memory=False.\n",
      "  exec(code_obj, self.user_global_ns, self.user_ns)\n"
     ]
    }
   ],
   "source": [
    "combined = pd.read_csv('combined.csv')"
   ]
  },
  {
   "cell_type": "markdown",
   "id": "60c93066",
   "metadata": {},
   "source": [
    "DROP THE ROWS CONTAINING \"OR\" IN THE ORDER DATE"
   ]
  },
  {
   "cell_type": "markdown",
   "id": "cd61a1f8",
   "metadata": {},
   "source": [
    "MAKE COLUMN CORRECT TYPE"
   ]
  },
  {
   "cell_type": "code",
   "execution_count": 17,
   "id": "4c47a53e",
   "metadata": {},
   "outputs": [],
   "source": [
    "combined = combined[combined['Order Date'].str[0:2]!='Or']"
   ]
  },
  {
   "cell_type": "code",
   "execution_count": 18,
   "id": "80404d03",
   "metadata": {},
   "outputs": [],
   "source": [
    "combined['Quantity Ordered'] = pd.to_numeric(combined['Quantity Ordered'])"
   ]
  },
  {
   "cell_type": "code",
   "execution_count": 19,
   "id": "fbbd653d",
   "metadata": {},
   "outputs": [],
   "source": [
    "combined['Price Each'] = pd.to_numeric(combined['Price Each'])"
   ]
  },
  {
   "cell_type": "markdown",
   "id": "00d15abd",
   "metadata": {},
   "source": [
    "ADD MONTH COLUMN"
   ]
  },
  {
   "cell_type": "code",
   "execution_count": 20,
   "id": "31f5dc7e",
   "metadata": {},
   "outputs": [
    {
     "name": "stdout",
     "output_type": "stream",
     "text": [
      "       Order ID                 Product  Quantity Ordered  Price Each  \\\n",
      "0        248151   AA Batteries (4-pack)               4.0        3.84   \n",
      "1        248152    USB-C Charging Cable               2.0       11.95   \n",
      "2        248153    USB-C Charging Cable               1.0       11.95   \n",
      "3        248154        27in FHD Monitor               1.0      149.99   \n",
      "4        248155    USB-C Charging Cable               1.0       11.95   \n",
      "...         ...                     ...               ...         ...   \n",
      "371369   259353  AAA Batteries (4-pack)               3.0        2.99   \n",
      "371370   259354                  iPhone               1.0      700.00   \n",
      "371371   259355                  iPhone               1.0      700.00   \n",
      "371372   259356  34in Ultrawide Monitor               1.0      379.99   \n",
      "371373   259357    USB-C Charging Cable               1.0       11.95   \n",
      "\n",
      "            Order Date                         Purchase Address  month  \n",
      "0       09/17/19 14:44      380 North St, Los Angeles, CA 90001      9  \n",
      "1       09/29/19 10:19             511 8th St, Austin, TX 73301      9  \n",
      "2       09/16/19 17:48    151 Johnson St, Los Angeles, CA 90001      9  \n",
      "3       09/27/19 07:52        355 Hickory St, Seattle, WA 98101      9  \n",
      "4       09/01/19 19:03            125 5th St, Atlanta, GA 30301      9  \n",
      "...                ...                                      ...    ...  \n",
      "371369  09/17/19 20:56   840 Highland St, Los Angeles, CA 90001      9  \n",
      "371370  09/01/19 16:00  216 Dogwood St, San Francisco, CA 94016      9  \n",
      "371371  09/23/19 07:39     220 12th St, San Francisco, CA 94016      9  \n",
      "371372  09/19/19 17:30   511 Forest St, San Francisco, CA 94016      9  \n",
      "371373  09/30/19 00:18   250 Meadow St, San Francisco, CA 94016      9  \n",
      "\n",
      "[371372 rows x 7 columns]\n"
     ]
    }
   ],
   "source": [
    "combined['month'] = combined['Order Date'].str[:2]\n",
    "combined['month'] = combined['month'].replace('', np.nan)  # Replace empty strings with NaN\n",
    "combined.dropna(subset=['month'], inplace=True)  # Drop rows with NaN in the 'month' column\n",
    "combined['month'] = combined['month'].astype(float).astype('Int32')  # Convert to float first, then to nullable integer\n",
    "combined.to_csv('combined.csv', index=False)\n",
    "print(combined)\n"
   ]
  },
  {
   "cell_type": "markdown",
   "id": "a0e7b91e",
   "metadata": {},
   "source": [
    "ADD CITY COLUMN"
   ]
  },
  {
   "cell_type": "code",
   "execution_count": 21,
   "id": "2ae57a69",
   "metadata": {},
   "outputs": [
    {
     "data": {
      "text/html": [
       "<div>\n",
       "<style scoped>\n",
       "    .dataframe tbody tr th:only-of-type {\n",
       "        vertical-align: middle;\n",
       "    }\n",
       "\n",
       "    .dataframe tbody tr th {\n",
       "        vertical-align: top;\n",
       "    }\n",
       "\n",
       "    .dataframe thead th {\n",
       "        text-align: right;\n",
       "    }\n",
       "</style>\n",
       "<table border=\"1\" class=\"dataframe\">\n",
       "  <thead>\n",
       "    <tr style=\"text-align: right;\">\n",
       "      <th></th>\n",
       "      <th>Order ID</th>\n",
       "      <th>Product</th>\n",
       "      <th>Quantity Ordered</th>\n",
       "      <th>Price Each</th>\n",
       "      <th>Order Date</th>\n",
       "      <th>Purchase Address</th>\n",
       "      <th>month</th>\n",
       "      <th>City</th>\n",
       "    </tr>\n",
       "  </thead>\n",
       "  <tbody>\n",
       "    <tr>\n",
       "      <th>0</th>\n",
       "      <td>248151</td>\n",
       "      <td>AA Batteries (4-pack)</td>\n",
       "      <td>4.0</td>\n",
       "      <td>3.84</td>\n",
       "      <td>09/17/19 14:44</td>\n",
       "      <td>380 North St, Los Angeles, CA 90001</td>\n",
       "      <td>9</td>\n",
       "      <td>Los Angeles  (CA)</td>\n",
       "    </tr>\n",
       "    <tr>\n",
       "      <th>1</th>\n",
       "      <td>248152</td>\n",
       "      <td>USB-C Charging Cable</td>\n",
       "      <td>2.0</td>\n",
       "      <td>11.95</td>\n",
       "      <td>09/29/19 10:19</td>\n",
       "      <td>511 8th St, Austin, TX 73301</td>\n",
       "      <td>9</td>\n",
       "      <td>Austin  (TX)</td>\n",
       "    </tr>\n",
       "    <tr>\n",
       "      <th>2</th>\n",
       "      <td>248153</td>\n",
       "      <td>USB-C Charging Cable</td>\n",
       "      <td>1.0</td>\n",
       "      <td>11.95</td>\n",
       "      <td>09/16/19 17:48</td>\n",
       "      <td>151 Johnson St, Los Angeles, CA 90001</td>\n",
       "      <td>9</td>\n",
       "      <td>Los Angeles  (CA)</td>\n",
       "    </tr>\n",
       "    <tr>\n",
       "      <th>3</th>\n",
       "      <td>248154</td>\n",
       "      <td>27in FHD Monitor</td>\n",
       "      <td>1.0</td>\n",
       "      <td>149.99</td>\n",
       "      <td>09/27/19 07:52</td>\n",
       "      <td>355 Hickory St, Seattle, WA 98101</td>\n",
       "      <td>9</td>\n",
       "      <td>Seattle  (WA)</td>\n",
       "    </tr>\n",
       "    <tr>\n",
       "      <th>4</th>\n",
       "      <td>248155</td>\n",
       "      <td>USB-C Charging Cable</td>\n",
       "      <td>1.0</td>\n",
       "      <td>11.95</td>\n",
       "      <td>09/01/19 19:03</td>\n",
       "      <td>125 5th St, Atlanta, GA 30301</td>\n",
       "      <td>9</td>\n",
       "      <td>Atlanta  (GA)</td>\n",
       "    </tr>\n",
       "  </tbody>\n",
       "</table>\n",
       "</div>"
      ],
      "text/plain": [
       "  Order ID                Product  Quantity Ordered  Price Each  \\\n",
       "0   248151  AA Batteries (4-pack)               4.0        3.84   \n",
       "1   248152   USB-C Charging Cable               2.0       11.95   \n",
       "2   248153   USB-C Charging Cable               1.0       11.95   \n",
       "3   248154       27in FHD Monitor               1.0      149.99   \n",
       "4   248155   USB-C Charging Cable               1.0       11.95   \n",
       "\n",
       "       Order Date                       Purchase Address  month  \\\n",
       "0  09/17/19 14:44    380 North St, Los Angeles, CA 90001      9   \n",
       "1  09/29/19 10:19           511 8th St, Austin, TX 73301      9   \n",
       "2  09/16/19 17:48  151 Johnson St, Los Angeles, CA 90001      9   \n",
       "3  09/27/19 07:52      355 Hickory St, Seattle, WA 98101      9   \n",
       "4  09/01/19 19:03          125 5th St, Atlanta, GA 30301      9   \n",
       "\n",
       "                City  \n",
       "0  Los Angeles  (CA)  \n",
       "1       Austin  (TX)  \n",
       "2  Los Angeles  (CA)  \n",
       "3      Seattle  (WA)  \n",
       "4      Atlanta  (GA)  "
      ]
     },
     "execution_count": 21,
     "metadata": {},
     "output_type": "execute_result"
    }
   ],
   "source": [
    "def get_city(address):\n",
    "    return address.split(\",\")[1].strip(\" \")\n",
    "\n",
    "def get_state(address):\n",
    "    return address.split(\",\")[2].split(\" \")[1]\n",
    "\n",
    "combined['City'] = combined['Purchase Address'].apply(lambda x: f\"{get_city(x)}  ({get_state(x)})\")\n",
    "combined.head()"
   ]
  },
  {
   "cell_type": "markdown",
   "id": "0bfcd28a",
   "metadata": {},
   "source": [
    "# DATA EXPLORATION "
   ]
  },
  {
   "cell_type": "markdown",
   "id": "ce373f0d",
   "metadata": {},
   "source": [
    "Create a sales column"
   ]
  },
  {
   "cell_type": "code",
   "execution_count": 22,
   "id": "aa393db2",
   "metadata": {},
   "outputs": [],
   "source": [
    "combined['sales'] = combined['Quantity Ordered'].astype('int') * combined['Price Each'].astype('float')"
   ]
  },
  {
   "cell_type": "code",
   "execution_count": 23,
   "id": "9ce0e852",
   "metadata": {},
   "outputs": [
    {
     "data": {
      "text/html": [
       "<div>\n",
       "<style scoped>\n",
       "    .dataframe tbody tr th:only-of-type {\n",
       "        vertical-align: middle;\n",
       "    }\n",
       "\n",
       "    .dataframe tbody tr th {\n",
       "        vertical-align: top;\n",
       "    }\n",
       "\n",
       "    .dataframe thead th {\n",
       "        text-align: right;\n",
       "    }\n",
       "</style>\n",
       "<table border=\"1\" class=\"dataframe\">\n",
       "  <thead>\n",
       "    <tr style=\"text-align: right;\">\n",
       "      <th></th>\n",
       "      <th>Quantity Ordered</th>\n",
       "      <th>Price Each</th>\n",
       "      <th>sales</th>\n",
       "    </tr>\n",
       "    <tr>\n",
       "      <th>month</th>\n",
       "      <th></th>\n",
       "      <th></th>\n",
       "      <th></th>\n",
       "    </tr>\n",
       "  </thead>\n",
       "  <tbody>\n",
       "    <tr>\n",
       "      <th>1</th>\n",
       "      <td>21786.0</td>\n",
       "      <td>3621849.62</td>\n",
       "      <td>3642826.32</td>\n",
       "    </tr>\n",
       "    <tr>\n",
       "      <th>2</th>\n",
       "      <td>26862.0</td>\n",
       "      <td>4373880.76</td>\n",
       "      <td>4400156.16</td>\n",
       "    </tr>\n",
       "    <tr>\n",
       "      <th>3</th>\n",
       "      <td>33958.0</td>\n",
       "      <td>5578169.28</td>\n",
       "      <td>5609946.70</td>\n",
       "    </tr>\n",
       "    <tr>\n",
       "      <th>4</th>\n",
       "      <td>41072.0</td>\n",
       "      <td>6732437.52</td>\n",
       "      <td>6778435.96</td>\n",
       "    </tr>\n",
       "    <tr>\n",
       "      <th>5</th>\n",
       "      <td>37306.0</td>\n",
       "      <td>6266269.22</td>\n",
       "      <td>6301232.46</td>\n",
       "    </tr>\n",
       "    <tr>\n",
       "      <th>6</th>\n",
       "      <td>30468.0</td>\n",
       "      <td>5121007.00</td>\n",
       "      <td>5152560.30</td>\n",
       "    </tr>\n",
       "    <tr>\n",
       "      <th>7</th>\n",
       "      <td>32108.0</td>\n",
       "      <td>5262450.24</td>\n",
       "      <td>5292922.64</td>\n",
       "    </tr>\n",
       "    <tr>\n",
       "      <th>8</th>\n",
       "      <td>26858.0</td>\n",
       "      <td>4453927.80</td>\n",
       "      <td>4482166.74</td>\n",
       "    </tr>\n",
       "    <tr>\n",
       "      <th>9</th>\n",
       "      <td>26182.0</td>\n",
       "      <td>4163795.30</td>\n",
       "      <td>4188931.38</td>\n",
       "    </tr>\n",
       "    <tr>\n",
       "      <th>10</th>\n",
       "      <td>45338.0</td>\n",
       "      <td>7427217.60</td>\n",
       "      <td>7469555.72</td>\n",
       "    </tr>\n",
       "    <tr>\n",
       "      <th>11</th>\n",
       "      <td>39538.0</td>\n",
       "      <td>6357745.06</td>\n",
       "      <td>6395750.10</td>\n",
       "    </tr>\n",
       "    <tr>\n",
       "      <th>12</th>\n",
       "      <td>56148.0</td>\n",
       "      <td>9166535.54</td>\n",
       "      <td>9216591.40</td>\n",
       "    </tr>\n",
       "  </tbody>\n",
       "</table>\n",
       "</div>"
      ],
      "text/plain": [
       "       Quantity Ordered  Price Each       sales\n",
       "month                                          \n",
       "1               21786.0  3621849.62  3642826.32\n",
       "2               26862.0  4373880.76  4400156.16\n",
       "3               33958.0  5578169.28  5609946.70\n",
       "4               41072.0  6732437.52  6778435.96\n",
       "5               37306.0  6266269.22  6301232.46\n",
       "6               30468.0  5121007.00  5152560.30\n",
       "7               32108.0  5262450.24  5292922.64\n",
       "8               26858.0  4453927.80  4482166.74\n",
       "9               26182.0  4163795.30  4188931.38\n",
       "10              45338.0  7427217.60  7469555.72\n",
       "11              39538.0  6357745.06  6395750.10\n",
       "12              56148.0  9166535.54  9216591.40"
      ]
     },
     "execution_count": 23,
     "metadata": {},
     "output_type": "execute_result"
    }
   ],
   "source": [
    "combined.groupby(['month']).sum()"
   ]
  },
  {
   "cell_type": "markdown",
   "id": "f5b9d5de",
   "metadata": {},
   "source": [
    "plot the graph"
   ]
  },
  {
   "cell_type": "code",
   "execution_count": 24,
   "id": "d2ef432d",
   "metadata": {},
   "outputs": [
    {
     "name": "stdout",
     "output_type": "stream",
     "text": [
      "range(1, 13)\n"
     ]
    },
    {
     "data": {
      "text/plain": [
       "<function matplotlib.pyplot.show(close=None, block=None)>"
      ]
     },
     "execution_count": 24,
     "metadata": {},
     "output_type": "execute_result"
    },
    {
     "data": {
      "image/png": "[encoded data removed]",
      "text/plain": [
       "<Figure size 432x288 with 1 Axes>"
      ]
     },
     "metadata": {
      "needs_background": "light"
     },
     "output_type": "display_data"
    }
   ],
   "source": [
    "months = range(1,13)\n",
    "print(months)\n",
    "plt.bar(months,combined.groupby(['month']).sum()['sales'])\n",
    "plt.xticks(months)\n",
    "plt.ylabel('sales($)')\n",
    "plt.xlabel('month')\n",
    "plt.show"
   ]
  },
  {
   "cell_type": "markdown",
   "id": "9e7eceb7",
   "metadata": {},
   "source": [
    "which city sold the most"
   ]
  },
  {
   "cell_type": "code",
   "execution_count": 25,
   "id": "47845242",
   "metadata": {},
   "outputs": [
    {
     "data": {
      "text/html": [
       "<div>\n",
       "<style scoped>\n",
       "    .dataframe tbody tr th:only-of-type {\n",
       "        vertical-align: middle;\n",
       "    }\n",
       "\n",
       "    .dataframe tbody tr th {\n",
       "        vertical-align: top;\n",
       "    }\n",
       "\n",
       "    .dataframe thead th {\n",
       "        text-align: right;\n",
       "    }\n",
       "</style>\n",
       "<table border=\"1\" class=\"dataframe\">\n",
       "  <thead>\n",
       "    <tr style=\"text-align: right;\">\n",
       "      <th></th>\n",
       "      <th>Quantity Ordered</th>\n",
       "      <th>Price Each</th>\n",
       "      <th>month</th>\n",
       "      <th>sales</th>\n",
       "    </tr>\n",
       "    <tr>\n",
       "      <th>City</th>\n",
       "      <th></th>\n",
       "      <th></th>\n",
       "      <th></th>\n",
       "      <th></th>\n",
       "    </tr>\n",
       "  </thead>\n",
       "  <tbody>\n",
       "    <tr>\n",
       "      <th>Atlanta  (GA)</th>\n",
       "      <td>33168.0</td>\n",
       "      <td>5557217.38</td>\n",
       "      <td>209298</td>\n",
       "      <td>5588398.14</td>\n",
       "    </tr>\n",
       "    <tr>\n",
       "      <th>Austin  (TX)</th>\n",
       "      <td>22274.0</td>\n",
       "      <td>3616680.06</td>\n",
       "      <td>139440</td>\n",
       "      <td>3636088.66</td>\n",
       "    </tr>\n",
       "    <tr>\n",
       "      <th>Boston  (MA)</th>\n",
       "      <td>44988.0</td>\n",
       "      <td>7268796.80</td>\n",
       "      <td>281796</td>\n",
       "      <td>7317255.30</td>\n",
       "    </tr>\n",
       "    <tr>\n",
       "      <th>Dallas  (TX)</th>\n",
       "      <td>33414.0</td>\n",
       "      <td>5500052.76</td>\n",
       "      <td>208894</td>\n",
       "      <td>5530747.92</td>\n",
       "    </tr>\n",
       "    <tr>\n",
       "      <th>Los Angeles  (CA)</th>\n",
       "      <td>66494.0</td>\n",
       "      <td>10834343.40</td>\n",
       "      <td>416040</td>\n",
       "      <td>10896608.56</td>\n",
       "    </tr>\n",
       "    <tr>\n",
       "      <th>New York City  (NY)</th>\n",
       "      <td>55806.0</td>\n",
       "      <td>9265841.08</td>\n",
       "      <td>351114</td>\n",
       "      <td>9323734.28</td>\n",
       "    </tr>\n",
       "    <tr>\n",
       "      <th>Portland  (ME)</th>\n",
       "      <td>5492.0</td>\n",
       "      <td>893504.72</td>\n",
       "      <td>34238</td>\n",
       "      <td>898642.76</td>\n",
       "    </tr>\n",
       "    <tr>\n",
       "      <th>Portland  (OR)</th>\n",
       "      <td>22582.0</td>\n",
       "      <td>3719672.88</td>\n",
       "      <td>141034</td>\n",
       "      <td>3740021.12</td>\n",
       "    </tr>\n",
       "    <tr>\n",
       "      <th>San Francisco  (CA)</th>\n",
       "      <td>100338.0</td>\n",
       "      <td>16408002.76</td>\n",
       "      <td>629898</td>\n",
       "      <td>16509487.10</td>\n",
       "    </tr>\n",
       "    <tr>\n",
       "      <th>Seattle  (WA)</th>\n",
       "      <td>33068.0</td>\n",
       "      <td>5461173.10</td>\n",
       "      <td>209634</td>\n",
       "      <td>5490092.04</td>\n",
       "    </tr>\n",
       "  </tbody>\n",
       "</table>\n",
       "</div>"
      ],
      "text/plain": [
       "                     Quantity Ordered   Price Each   month        sales\n",
       "City                                                                   \n",
       "Atlanta  (GA)                 33168.0   5557217.38  209298   5588398.14\n",
       "Austin  (TX)                  22274.0   3616680.06  139440   3636088.66\n",
       "Boston  (MA)                  44988.0   7268796.80  281796   7317255.30\n",
       "Dallas  (TX)                  33414.0   5500052.76  208894   5530747.92\n",
       "Los Angeles  (CA)             66494.0  10834343.40  416040  10896608.56\n",
       "New York City  (NY)           55806.0   9265841.08  351114   9323734.28\n",
       "Portland  (ME)                 5492.0    893504.72   34238    898642.76\n",
       "Portland  (OR)                22582.0   3719672.88  141034   3740021.12\n",
       "San Francisco  (CA)          100338.0  16408002.76  629898  16509487.10\n",
       "Seattle  (WA)                 33068.0   5461173.10  209634   5490092.04"
      ]
     },
     "execution_count": 25,
     "metadata": {},
     "output_type": "execute_result"
    }
   ],
   "source": [
    "combined.groupby(['City']).sum()"
   ]
  },
  {
   "cell_type": "markdown",
   "id": "89a70199",
   "metadata": {},
   "source": [
    "plot the graph"
   ]
  },
  {
   "cell_type": "code",
   "execution_count": 26,
   "id": "dae4d7b3",
   "metadata": {},
   "outputs": [
    {
     "data": {
      "image/png": "[encoded data removed]",
      "text/plain": [
       "<Figure size 432x288 with 1 Axes>"
      ]
     },
     "metadata": {
      "needs_background": "light"
     },
     "output_type": "display_data"
    }
   ],
   "source": [
    "keys = [city for city, df in combined.groupby(['City'])]\n",
    "plt.bar(keys, combined.groupby(['City']).sum()['sales'])\n",
    "plt.ylabel('sales($)')\n",
    "plt.xlabel('Month')\n",
    "plt.xticks(keys, rotation='vertical', size=8)\n",
    "plt.show()"
   ]
  },
  {
   "cell_type": "code",
   "execution_count": 27,
   "id": "c544d0a0",
   "metadata": {},
   "outputs": [
    {
     "data": {
      "text/html": [
       "<div>\n",
       "<style scoped>\n",
       "    .dataframe tbody tr th:only-of-type {\n",
       "        vertical-align: middle;\n",
       "    }\n",
       "\n",
       "    .dataframe tbody tr th {\n",
       "        vertical-align: top;\n",
       "    }\n",
       "\n",
       "    .dataframe thead th {\n",
       "        text-align: right;\n",
       "    }\n",
       "</style>\n",
       "<table border=\"1\" class=\"dataframe\">\n",
       "  <thead>\n",
       "    <tr style=\"text-align: right;\">\n",
       "      <th></th>\n",
       "      <th>Order ID</th>\n",
       "      <th>Product</th>\n",
       "      <th>Quantity Ordered</th>\n",
       "      <th>Price Each</th>\n",
       "      <th>Order Date</th>\n",
       "      <th>Purchase Address</th>\n",
       "      <th>month</th>\n",
       "      <th>City</th>\n",
       "      <th>sales</th>\n",
       "    </tr>\n",
       "  </thead>\n",
       "  <tbody>\n",
       "    <tr>\n",
       "      <th>0</th>\n",
       "      <td>248151</td>\n",
       "      <td>AA Batteries (4-pack)</td>\n",
       "      <td>4.0</td>\n",
       "      <td>3.84</td>\n",
       "      <td>09/17/19 14:44</td>\n",
       "      <td>380 North St, Los Angeles, CA 90001</td>\n",
       "      <td>9</td>\n",
       "      <td>Los Angeles  (CA)</td>\n",
       "      <td>15.36</td>\n",
       "    </tr>\n",
       "    <tr>\n",
       "      <th>1</th>\n",
       "      <td>248152</td>\n",
       "      <td>USB-C Charging Cable</td>\n",
       "      <td>2.0</td>\n",
       "      <td>11.95</td>\n",
       "      <td>09/29/19 10:19</td>\n",
       "      <td>511 8th St, Austin, TX 73301</td>\n",
       "      <td>9</td>\n",
       "      <td>Austin  (TX)</td>\n",
       "      <td>23.90</td>\n",
       "    </tr>\n",
       "    <tr>\n",
       "      <th>2</th>\n",
       "      <td>248153</td>\n",
       "      <td>USB-C Charging Cable</td>\n",
       "      <td>1.0</td>\n",
       "      <td>11.95</td>\n",
       "      <td>09/16/19 17:48</td>\n",
       "      <td>151 Johnson St, Los Angeles, CA 90001</td>\n",
       "      <td>9</td>\n",
       "      <td>Los Angeles  (CA)</td>\n",
       "      <td>11.95</td>\n",
       "    </tr>\n",
       "    <tr>\n",
       "      <th>3</th>\n",
       "      <td>248154</td>\n",
       "      <td>27in FHD Monitor</td>\n",
       "      <td>1.0</td>\n",
       "      <td>149.99</td>\n",
       "      <td>09/27/19 07:52</td>\n",
       "      <td>355 Hickory St, Seattle, WA 98101</td>\n",
       "      <td>9</td>\n",
       "      <td>Seattle  (WA)</td>\n",
       "      <td>149.99</td>\n",
       "    </tr>\n",
       "    <tr>\n",
       "      <th>4</th>\n",
       "      <td>248155</td>\n",
       "      <td>USB-C Charging Cable</td>\n",
       "      <td>1.0</td>\n",
       "      <td>11.95</td>\n",
       "      <td>09/01/19 19:03</td>\n",
       "      <td>125 5th St, Atlanta, GA 30301</td>\n",
       "      <td>9</td>\n",
       "      <td>Atlanta  (GA)</td>\n",
       "      <td>11.95</td>\n",
       "    </tr>\n",
       "  </tbody>\n",
       "</table>\n",
       "</div>"
      ],
      "text/plain": [
       "  Order ID                Product  Quantity Ordered  Price Each  \\\n",
       "0   248151  AA Batteries (4-pack)               4.0        3.84   \n",
       "1   248152   USB-C Charging Cable               2.0       11.95   \n",
       "2   248153   USB-C Charging Cable               1.0       11.95   \n",
       "3   248154       27in FHD Monitor               1.0      149.99   \n",
       "4   248155   USB-C Charging Cable               1.0       11.95   \n",
       "\n",
       "       Order Date                       Purchase Address  month  \\\n",
       "0  09/17/19 14:44    380 North St, Los Angeles, CA 90001      9   \n",
       "1  09/29/19 10:19           511 8th St, Austin, TX 73301      9   \n",
       "2  09/16/19 17:48  151 Johnson St, Los Angeles, CA 90001      9   \n",
       "3  09/27/19 07:52      355 Hickory St, Seattle, WA 98101      9   \n",
       "4  09/01/19 19:03          125 5th St, Atlanta, GA 30301      9   \n",
       "\n",
       "                City   sales  \n",
       "0  Los Angeles  (CA)   15.36  \n",
       "1       Austin  (TX)   23.90  \n",
       "2  Los Angeles  (CA)   11.95  \n",
       "3      Seattle  (WA)  149.99  \n",
       "4      Atlanta  (GA)   11.95  "
      ]
     },
     "execution_count": 27,
     "metadata": {},
     "output_type": "execute_result"
    }
   ],
   "source": [
    "combined.head()"
   ]
  },
  {
   "cell_type": "markdown",
   "id": "a7509d42",
   "metadata": {},
   "source": [
    "what time should we display ads"
   ]
  },
  {
   "cell_type": "code",
   "execution_count": 28,
   "id": "324bd682",
   "metadata": {},
   "outputs": [
    {
     "data": {
      "text/html": [
       "<div>\n",
       "<style scoped>\n",
       "    .dataframe tbody tr th:only-of-type {\n",
       "        vertical-align: middle;\n",
       "    }\n",
       "\n",
       "    .dataframe tbody tr th {\n",
       "        vertical-align: top;\n",
       "    }\n",
       "\n",
       "    .dataframe thead th {\n",
       "        text-align: right;\n",
       "    }\n",
       "</style>\n",
       "<table border=\"1\" class=\"dataframe\">\n",
       "  <thead>\n",
       "    <tr style=\"text-align: right;\">\n",
       "      <th></th>\n",
       "      <th>Order ID</th>\n",
       "      <th>Product</th>\n",
       "      <th>Quantity Ordered</th>\n",
       "      <th>Price Each</th>\n",
       "      <th>Order Date</th>\n",
       "      <th>Purchase Address</th>\n",
       "      <th>month</th>\n",
       "      <th>City</th>\n",
       "      <th>sales</th>\n",
       "      <th>Hour</th>\n",
       "      <th>Minute</th>\n",
       "      <th>count</th>\n",
       "    </tr>\n",
       "  </thead>\n",
       "  <tbody>\n",
       "    <tr>\n",
       "      <th>0</th>\n",
       "      <td>248151</td>\n",
       "      <td>AA Batteries (4-pack)</td>\n",
       "      <td>4.0</td>\n",
       "      <td>3.84</td>\n",
       "      <td>2019-09-17 14:44:00</td>\n",
       "      <td>380 North St, Los Angeles, CA 90001</td>\n",
       "      <td>9</td>\n",
       "      <td>Los Angeles  (CA)</td>\n",
       "      <td>15.36</td>\n",
       "      <td>14</td>\n",
       "      <td>44</td>\n",
       "      <td>1</td>\n",
       "    </tr>\n",
       "    <tr>\n",
       "      <th>1</th>\n",
       "      <td>248152</td>\n",
       "      <td>USB-C Charging Cable</td>\n",
       "      <td>2.0</td>\n",
       "      <td>11.95</td>\n",
       "      <td>2019-09-29 10:19:00</td>\n",
       "      <td>511 8th St, Austin, TX 73301</td>\n",
       "      <td>9</td>\n",
       "      <td>Austin  (TX)</td>\n",
       "      <td>23.90</td>\n",
       "      <td>10</td>\n",
       "      <td>19</td>\n",
       "      <td>1</td>\n",
       "    </tr>\n",
       "    <tr>\n",
       "      <th>2</th>\n",
       "      <td>248153</td>\n",
       "      <td>USB-C Charging Cable</td>\n",
       "      <td>1.0</td>\n",
       "      <td>11.95</td>\n",
       "      <td>2019-09-16 17:48:00</td>\n",
       "      <td>151 Johnson St, Los Angeles, CA 90001</td>\n",
       "      <td>9</td>\n",
       "      <td>Los Angeles  (CA)</td>\n",
       "      <td>11.95</td>\n",
       "      <td>17</td>\n",
       "      <td>48</td>\n",
       "      <td>1</td>\n",
       "    </tr>\n",
       "    <tr>\n",
       "      <th>3</th>\n",
       "      <td>248154</td>\n",
       "      <td>27in FHD Monitor</td>\n",
       "      <td>1.0</td>\n",
       "      <td>149.99</td>\n",
       "      <td>2019-09-27 07:52:00</td>\n",
       "      <td>355 Hickory St, Seattle, WA 98101</td>\n",
       "      <td>9</td>\n",
       "      <td>Seattle  (WA)</td>\n",
       "      <td>149.99</td>\n",
       "      <td>7</td>\n",
       "      <td>52</td>\n",
       "      <td>1</td>\n",
       "    </tr>\n",
       "    <tr>\n",
       "      <th>4</th>\n",
       "      <td>248155</td>\n",
       "      <td>USB-C Charging Cable</td>\n",
       "      <td>1.0</td>\n",
       "      <td>11.95</td>\n",
       "      <td>2019-09-01 19:03:00</td>\n",
       "      <td>125 5th St, Atlanta, GA 30301</td>\n",
       "      <td>9</td>\n",
       "      <td>Atlanta  (GA)</td>\n",
       "      <td>11.95</td>\n",
       "      <td>19</td>\n",
       "      <td>3</td>\n",
       "      <td>1</td>\n",
       "    </tr>\n",
       "  </tbody>\n",
       "</table>\n",
       "</div>"
      ],
      "text/plain": [
       "  Order ID                Product  Quantity Ordered  Price Each  \\\n",
       "0   248151  AA Batteries (4-pack)               4.0        3.84   \n",
       "1   248152   USB-C Charging Cable               2.0       11.95   \n",
       "2   248153   USB-C Charging Cable               1.0       11.95   \n",
       "3   248154       27in FHD Monitor               1.0      149.99   \n",
       "4   248155   USB-C Charging Cable               1.0       11.95   \n",
       "\n",
       "           Order Date                       Purchase Address  month  \\\n",
       "0 2019-09-17 14:44:00    380 North St, Los Angeles, CA 90001      9   \n",
       "1 2019-09-29 10:19:00           511 8th St, Austin, TX 73301      9   \n",
       "2 2019-09-16 17:48:00  151 Johnson St, Los Angeles, CA 90001      9   \n",
       "3 2019-09-27 07:52:00      355 Hickory St, Seattle, WA 98101      9   \n",
       "4 2019-09-01 19:03:00          125 5th St, Atlanta, GA 30301      9   \n",
       "\n",
       "                City   sales  Hour  Minute  count  \n",
       "0  Los Angeles  (CA)   15.36    14      44      1  \n",
       "1       Austin  (TX)   23.90    10      19      1  \n",
       "2  Los Angeles  (CA)   11.95    17      48      1  \n",
       "3      Seattle  (WA)  149.99     7      52      1  \n",
       "4      Atlanta  (GA)   11.95    19       3      1  "
      ]
     },
     "execution_count": 28,
     "metadata": {},
     "output_type": "execute_result"
    }
   ],
   "source": [
    "combined['Order Date'] = pd.to_datetime(combined['Order Date'])  # Convert 'Order Date' column to datetime if it's not already\n",
    "\n",
    "combined['Hour'] = combined['Order Date'].dt.hour\n",
    "combined['Minute'] = combined['Order Date'].dt.minute\n",
    "combined['count'] = 1\n",
    "\n",
    "combined.head()"
   ]
  },
  {
   "cell_type": "code",
   "execution_count": 29,
   "id": "255573bf",
   "metadata": {},
   "outputs": [
    {
     "data": {
      "image/png": "[encoded data removed]",
      "text/plain": [
       "<Figure size 432x288 with 1 Axes>"
      ]
     },
     "metadata": {
      "needs_background": "light"
     },
     "output_type": "display_data"
    }
   ],
   "source": [
    "keys = [Hour for Hour, df in combined.groupby(['Hour'])]\n",
    "plt.plot(keys,combined.groupby(['Hour']).count()['count'])\n",
    "plt.xticks(keys)\n",
    "plt.grid()\n",
    "plt.show()"
   ]
  },
  {
   "cell_type": "markdown",
   "id": "4f59ee9b",
   "metadata": {},
   "source": [
    "what products are sold together"
   ]
  },
  {
   "cell_type": "code",
   "execution_count": 30,
   "id": "d02d1e4d",
   "metadata": {},
   "outputs": [
    {
     "name": "stderr",
     "output_type": "stream",
     "text": [
      "C:\\Users\\Beloxxi\\AppData\\Local\\Temp/ipykernel_3360/3337055599.py:2: SettingWithCopyWarning: \n",
      "A value is trying to be set on a copy of a slice from a DataFrame.\n",
      "Try using .loc[row_indexer,col_indexer] = value instead\n",
      "\n",
      "See the caveats in the documentation: https://pandas.pydata.org/pandas-docs/stable/user_guide/indexing.html#returning-a-view-versus-a-copy\n",
      "  df['Grouped'] = df.groupby('Order ID')['Product'].transform(lambda x: ','.join(x))\n"
     ]
    },
    {
     "data": {
      "text/html": [
       "<div>\n",
       "<style scoped>\n",
       "    .dataframe tbody tr th:only-of-type {\n",
       "        vertical-align: middle;\n",
       "    }\n",
       "\n",
       "    .dataframe tbody tr th {\n",
       "        vertical-align: top;\n",
       "    }\n",
       "\n",
       "    .dataframe thead th {\n",
       "        text-align: right;\n",
       "    }\n",
       "</style>\n",
       "<table border=\"1\" class=\"dataframe\">\n",
       "  <thead>\n",
       "    <tr style=\"text-align: right;\">\n",
       "      <th></th>\n",
       "      <th>Order ID</th>\n",
       "      <th>Grouped</th>\n",
       "    </tr>\n",
       "  </thead>\n",
       "  <tbody>\n",
       "    <tr>\n",
       "      <th>0</th>\n",
       "      <td>248151</td>\n",
       "      <td>AA Batteries (4-pack),AA Batteries (4-pack)</td>\n",
       "    </tr>\n",
       "    <tr>\n",
       "      <th>1</th>\n",
       "      <td>248152</td>\n",
       "      <td>USB-C Charging Cable,USB-C Charging Cable</td>\n",
       "    </tr>\n",
       "    <tr>\n",
       "      <th>2</th>\n",
       "      <td>248153</td>\n",
       "      <td>USB-C Charging Cable,USB-C Charging Cable</td>\n",
       "    </tr>\n",
       "    <tr>\n",
       "      <th>3</th>\n",
       "      <td>248154</td>\n",
       "      <td>27in FHD Monitor,27in FHD Monitor</td>\n",
       "    </tr>\n",
       "    <tr>\n",
       "      <th>4</th>\n",
       "      <td>248155</td>\n",
       "      <td>USB-C Charging Cable,USB-C Charging Cable</td>\n",
       "    </tr>\n",
       "  </tbody>\n",
       "</table>\n",
       "</div>"
      ],
      "text/plain": [
       "  Order ID                                      Grouped\n",
       "0   248151  AA Batteries (4-pack),AA Batteries (4-pack)\n",
       "1   248152    USB-C Charging Cable,USB-C Charging Cable\n",
       "2   248153    USB-C Charging Cable,USB-C Charging Cable\n",
       "3   248154            27in FHD Monitor,27in FHD Monitor\n",
       "4   248155    USB-C Charging Cable,USB-C Charging Cable"
      ]
     },
     "execution_count": 30,
     "metadata": {},
     "output_type": "execute_result"
    }
   ],
   "source": [
    "df = combined[combined['Order ID'].duplicated(keep=False)]\n",
    "df['Grouped'] = df.groupby('Order ID')['Product'].transform(lambda x: ','.join(x))\n",
    "df2 = df[['Order ID','Grouped']].drop_duplicates()\n",
    "df2.head()"
   ]
  },
  {
   "cell_type": "code",
   "execution_count": 31,
   "id": "2bd23ce0",
   "metadata": {},
   "outputs": [
    {
     "name": "stdout",
     "output_type": "stream",
     "text": [
      "('USB-C Charging Cable', 'USB-C Charging Cable') 6421\n",
      "('Lightning Charging Cable', 'Lightning Charging Cable') 6344\n",
      "('AA Batteries (4-pack)', 'AA Batteries (4-pack)') 6118\n",
      "('AAA Batteries (4-pack)', 'AAA Batteries (4-pack)') 5985\n",
      "('Wired Headphones', 'Wired Headphones') 5466\n",
      "('Apple Airpods Headphones', 'Apple Airpods Headphones') 4634\n",
      "('Bose SoundSport Headphones', 'Bose SoundSport Headphones') 4036\n",
      "('iPhone', 'Lightning Charging Cable') 2312\n",
      "('Google Phone', 'USB-C Charging Cable') 2260\n",
      "('27in FHD Monitor', '27in FHD Monitor') 2242\n"
     ]
    }
   ],
   "source": [
    "from itertools import combinations\n",
    "from collections import Counter\n",
    "\n",
    "count = Counter()\n",
    "\n",
    "for row in df2['Grouped']:\n",
    "    row_list = row.split(',')\n",
    "    count.update(Counter(combinations(row_list, 2)))\n",
    "\n",
    "for key,value in count.most_common(10):\n",
    "    print(key, value)\n"
   ]
  },
  {
   "cell_type": "markdown",
   "id": "be63521b",
   "metadata": {},
   "source": [
    "what product sold the most?"
   ]
  },
  {
   "cell_type": "code",
   "execution_count": 32,
   "id": "07ffade8",
   "metadata": {},
   "outputs": [
    {
     "data": {
      "image/png": "[encoded data removed]",
      "text/plain": [
       "<Figure size 432x288 with 1 Axes>"
      ]
     },
     "metadata": {
      "needs_background": "light"
     },
     "output_type": "display_data"
    }
   ],
   "source": [
    "Product_group = combined.groupby('Product')\n",
    "Quantity_Ordered = Product_group.sum()['Quantity Ordered']\n",
    "products = [product for product, df in Product_group] \n",
    "plt.bar(products, Quantity_Ordered)\n",
    "plt.ylabel('Quantity Ordered')\n",
    "plt.xlabel('Products')\n",
    "plt.xticks(products, rotation='vertical', size=8)\n",
    "plt.show()\n"
   ]
  },
  {
   "cell_type": "code",
   "execution_count": null,
   "id": "49a46e41",
   "metadata": {},
   "outputs": [],
   "source": []
  },
  {
   "cell_type": "code",
   "execution_count": null,
   "id": "a0811f8c",
   "metadata": {},
   "outputs": [],
   "source": []
  },
  {
   "cell_type": "code",
   "execution_count": null,
   "id": "064d6273",
   "metadata": {},
   "outputs": [],
   "source": []
  },
  {
   "cell_type": "code",
   "execution_count": null,
   "id": "58c41a09",
   "metadata": {},
   "outputs": [],
   "source": []
  },
  {
   "cell_type": "code",
   "execution_count": null,
   "id": "6732aa9a",
   "metadata": {},
   "outputs": [],
   "source": []
  },
  {
   "cell_type": "code",
   "execution_count": null,
   "id": "2fafcfa2",
   "metadata": {},
   "outputs": [],
   "source": []
  },
  {
   "cell_type": "code",
   "execution_count": null,
   "id": "78684821",
   "metadata": {},
   "outputs": [],
   "source": []
  },
  {
   "cell_type": "code",
   "execution_count": null,
   "id": "628f586f",
   "metadata": {},
   "outputs": [],
   "source": []
  },
  {
   "cell_type": "code",
   "execution_count": null,
   "id": "c1fa43df",
   "metadata": {},
   "outputs": [],
   "source": []
  },
  {
   "cell_type": "code",
   "execution_count": null,
   "id": "e09e7512",
   "metadata": {},
   "outputs": [],
   "source": []
  }
 ],
 "metadata": {
  "kernelspec": {
   "display_name": "Python 3 (ipykernel)",
   "language": "python",
   "name": "python3"
  },
  "language_info": {
   "codemirror_mode": {
    "name": "ipython",
    "version": 3
   },
   "file_extension": ".py",
   "mimetype": "text/x-python",
   "name": "python",
   "nbconvert_exporter": "python",
   "pygments_lexer": "ipython3",
   "version": "3.9.7"
  }
 },
 "nbformat": 4,
 "nbformat_minor": 5
}
